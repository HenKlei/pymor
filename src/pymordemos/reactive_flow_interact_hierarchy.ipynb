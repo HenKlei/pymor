{
 "cells": [
  {
   "cell_type": "code",
   "execution_count": 1,
   "id": "0afb673c-7199-42ce-82ab-1e2fbf34ff00",
   "metadata": {},
   "outputs": [],
   "source": [
    "import time\n",
    "import warnings\n",
    "from functools import partial\n",
    "\n",
    "import matplotlib as mpl\n",
    "import numpy as np\n",
    "from IPython import get_ipython\n",
    "\n",
    "import pymor.tools.random\n",
    "\n",
    "ip = get_ipython()\n",
    "if ip is not None:\n",
    "#    ip.run_line_magic('matplotlib', 'inline')\n",
    "    ip.run_line_magic('matplotlib', 'ipympl')\n",
    "\n",
    "warnings.filterwarnings('ignore', category=UserWarning, module='torch')\n",
    "\n",
    "pymor.tools.random._default_random_state = None\n",
    "\n",
    "mpl.rcParams['figure.facecolor'] = (1.0, 1.0, 1.0, 0.0)\n",
    "#mpl.rcParams['figure.dpi'] = 200\n",
    "\n",
    "from pymor.core.logger import getLogger, set_log_levels\n",
    "\n",
    "set_log_levels({ # disable logging for some components\n",
    "    'main': 'DEBUG',\n",
    "    'pymor': 'WARN',\n",
    "    'pymor.models': 'WARN',\n",
    "    'pymor.discretizers.builtin': 'WARN',\n",
    "    'pymor.discretizers.dunegdt': 'DEBUG',\n",
    "    'pymor.analyticalproblems.functions.BitmapFunction': 'ERROR',\n",
    "    'models.ann.ANNStateReductor': 'INFO',\n",
    "    'models.vkoga.VkogaStateModel': 'INFO',\n",
    "    'models.vkoga.VkogaStateReductor': 'DEBUG',\n",
    "    'models.adaptive': 'DEBUG',\n",
    "    'algorithms.optimization': 'DEBUG'})\n",
    "\n",
    "logger = getLogger('main.main')"
   ]
  },
  {
   "cell_type": "code",
   "execution_count": 2,
   "id": "bfc319ea-5a2f-47f1-9e2e-0f1f9010923e",
   "metadata": {},
   "outputs": [],
   "source": [
    "# FOM\n",
    "num_refines = 2\n",
    "num_timesteps = 20"
   ]
  },
  {
   "cell_type": "code",
   "execution_count": 3,
   "id": "15d2c212-ea16-4329-9bb1-57a79ece32a4",
   "metadata": {},
   "outputs": [],
   "source": [
    "from pymor.basic import *\n",
    "\n",
    "\n",
    "def setup_problem_and_discretize(num_refines, nt):\n",
    "    from spe10channel import discretize, make_problem\n",
    "\n",
    "    grid, num_grid_elements, boundary_info, problem, parameter_space, mu_bar = make_problem(\n",
    "        regime='diffusion dominated', num_global_refines=num_refines)\n",
    "\n",
    "    fom, fom_data, coercivity_estimator = discretize(\n",
    "        grid, num_grid_elements, boundary_info, problem, mu_bar, nt=nt)\n",
    "\n",
    "    return parameter_space, fom, fom_data, coercivity_estimator\n",
    "\n",
    "\n",
    "spatial_product = lambda m: m.energy_0_product"
   ]
  },
  {
   "cell_type": "code",
   "execution_count": 4,
   "id": "a95bd5b1-50ae-4ba6-ab9a-6f814df7b082",
   "metadata": {},
   "outputs": [
    {
     "data": {
      "application/vnd.jupyter.widget-view+json": {
       "model_id": "6694e7a406a04ace967eb2276c153e81",
       "version_major": 2,
       "version_minor": 0
      },
      "text/plain": [
       "Accordion(children=(HTML(value='', layout=Layout(height='16em', width='100%')),), titles=('Log Output',))"
      ]
     },
     "metadata": {},
     "output_type": "display_data"
    }
   ],
   "source": [
    "logger.info('creating FOM:')\n",
    "tic = time.perf_counter()\n",
    "\n",
    "parameter_space, fom, fom_data, coercivity_estimator = setup_problem_and_discretize(\n",
    "    num_refines, num_timesteps)\n",
    "\n",
    "fom_offline_time = time.perf_counter() - tic\n",
    "logger.info(f'  discretizing took {fom_offline_time}s')\n",
    "logger.info(f'  grid has {fom_data[\"grid\"].size(0)} elements,'\n",
    "            f'FOM has {fom.solution_space.dim} DoFs, '\n",
    "            f'uses {fom.time_stepper.nt} time steps')\n",
    "\n",
    "logger.info(f'  input parameter space is {parameter_space.parameters.dim}-dimensional:')\n",
    "logger.info(f'    {parameter_space}')"
   ]
  },
  {
   "cell_type": "code",
   "execution_count": 5,
   "id": "0a7c3eca-1703-4db3-9568-e6a8f008c780",
   "metadata": {},
   "outputs": [
    {
     "data": {
      "application/vnd.jupyter.widget-view+json": {
       "model_id": "cffdb7c183ad423bb73714bed1065ff8",
       "version_major": 2,
       "version_minor": 0
      },
      "text/plain": [
       "Accordion(children=(HTML(value='', layout=Layout(height='16em', width='100%')),), titles=('Log Output',))"
      ]
     },
     "metadata": {},
     "output_type": "display_data"
    }
   ],
   "source": [
    "logger.info('computing dual norm of output functional:')\n",
    "\n",
    "assert not fom.output_functional.parametric\n",
    "riesz_representative = spatial_product(fom).apply_inverse(fom.output_functional.as_vector())\n",
    "dual_norm_output = np.sqrt(spatial_product(fom).apply2(riesz_representative, riesz_representative)[0][0])\n",
    "del riesz_representative\n",
    "\n",
    "logger.info(f'  {dual_norm_output}')"
   ]
  },
  {
   "cell_type": "code",
   "execution_count": 6,
   "id": "3bdc9b3e-0288-4e15-976c-b9e90e72a17f",
   "metadata": {},
   "outputs": [
    {
     "data": {
      "application/vnd.jupyter.widget-view+json": {
       "model_id": "4f57376766a940eaa4db0fb73efa58d4",
       "version_major": 2,
       "version_minor": 0
      },
      "text/plain": [
       "Accordion(children=(HTML(value='', layout=Layout(height='16em', width='100%')),), titles=('Log Output',))"
      ]
     },
     "metadata": {},
     "output_type": "display_data"
    }
   ],
   "source": [
    "#mu_ref = parameter_space.sample_uniformly(1)[0]\n",
    "mu_init = fom.parameters.parse([2.0, 10.5])\n",
    "mu_ref = fom.parameters.parse([5.005, 10])\n",
    "#mu_opt = fom.parameters.parse([3.578, 10.095])\n",
    "mu_opt = fom.parameters.parse([4.7421, 9.5263])\n",
    "#mu_ref = fom.parameters.parse([10., 9.])\n",
    "\n",
    "logger.info(f'computing f_h(mu={mu_ref}) ...')\n",
    "\n",
    "tic = time.perf_counter()\n",
    "f_mu_ref = fom.output(mu=mu_ref)#, incremental=True)  # no need to keep the state trajectory in memory\n",
    "fom_online_output_time = time.perf_counter() - tic\n",
    "\n",
    "logger.info(f'average FOM output (solve + apply functional) time: {fom_online_output_time}s')\n",
    "\n",
    "logger.info('computing ||f_mu_ref||_{L^2(0, T)}:')\n",
    "initial_abs_output_tol = fom.output_l2_norm(f_mu_ref)\n",
    "logger.info(f'  {initial_abs_output_tol}')"
   ]
  },
  {
   "cell_type": "code",
   "execution_count": 7,
   "id": "cc5919a0-62ce-4337-a86a-890236f35118",
   "metadata": {},
   "outputs": [],
   "source": [
    "from pymor.models.hierarchy import AdaptiveModelHierarchy"
   ]
  },
  {
   "cell_type": "code",
   "execution_count": 8,
   "id": "c62c3fbe-c684-43c2-a8f6-1c21ed984b27",
   "metadata": {},
   "outputs": [],
   "source": [
    "rb_reductor = ParabolicRBReductor(fom, product=spatial_product(fom), coercivity_estimator=coercivity_estimator)\n",
    "\n",
    "def reduction_rb(training_data, len_previous_training_data, models, reductors):\n",
    "    U = fom.solution_space.empty(reserve=len(training_data))\n",
    "    for _, u in training_data[len_previous_training_data:]:\n",
    "        U.append(u)\n",
    "    RB, _ = pod(U, product=fom.h1_0_semi_product)\n",
    "    reductors[0].extend_basis(RB)\n",
    "    # TODO: Use HaPOD here!!!\n",
    "    return reductors[0].reduce()\n",
    "\n",
    "def post_reduction_rb(training_data, models, reductors):\n",
    "    return []\n",
    "\n",
    "tolerance = 5e-3\n",
    "\n",
    "# Settings for the two-stage hierarchy\n",
    "models = [rb_reductor.reduce(), fom]\n",
    "model_names = ['RB-ROM', 'FOM']\n",
    "reductors = [rb_reductor]\n",
    "reduction_methods = [reduction_rb]\n",
    "post_reduction_methods = [post_reduction_rb]\n",
    "training_frequencies = [1]\n",
    "\n",
    "two_stage_hierarchy = AdaptiveModelHierarchy(models, reductors, reduction_methods, post_reduction_methods,\n",
    "                                             training_frequencies, tolerance, visualizer=fom.visualizer,\n",
    "                                             name='Two-stage model hierarchy')"
   ]
  },
  {
   "cell_type": "code",
   "execution_count": 9,
   "id": "daef41fe-6452-4596-8093-2a0d4bb2814b",
   "metadata": {},
   "outputs": [],
   "source": [
    "def Linf_misfit(m, x, f_ref=None):\n",
    "    mu = m.parameters.parse(x)\n",
    "    f_x = m.output(mu)#, incremental=True)\n",
    "    if f_ref is None:\n",
    "        f_ref = m.output(mu=mu_ref)#, incremental=True)\n",
    "    return np.max(np.abs(f_ref - f_x))"
   ]
  },
  {
   "cell_type": "code",
   "execution_count": 10,
   "id": "356fca3a-7b66-4de4-af14-b174a4c2ca7b",
   "metadata": {},
   "outputs": [],
   "source": [
    "def objective_function(m, x):\n",
    "    mu = m.parameters.parse(x)\n",
    "    f_x = m.output(mu)\n",
    "    return fom.T * np.mean(f_x) + 0.0075 * x[\"Da\"][0] - 0.0375 * x[\"Pe\"][0]"
   ]
  },
  {
   "cell_type": "code",
   "execution_count": 11,
   "id": "bae3f886-56ca-4950-93ab-95031b2da694",
   "metadata": {},
   "outputs": [],
   "source": [
    "mean = (5.005, 10)\n",
    "cov = [[2, 0], [0, 1]]\n",
    "\n",
    "from scipy.stats import multivariate_normal\n",
    "rv = multivariate_normal(mean, cov)\n",
    "\n",
    "def random_sampling_function():\n",
    "    return rv.rvs()\n",
    "\n",
    "density_function_monte_carlo = rv.pdf"
   ]
  },
  {
   "cell_type": "code",
   "execution_count": 12,
   "id": "73a16970-50e7-4019-931d-12add348102b",
   "metadata": {},
   "outputs": [],
   "source": [
    "from pymor.models.interact import interact_model_hierarchy"
   ]
  },
  {
   "cell_type": "code",
   "execution_count": 13,
   "id": "48990550-0b09-40c7-b714-60671d702dc4",
   "metadata": {},
   "outputs": [
    {
     "data": {
      "text/plain": [
       "\"\\nnum_params = 20\\nuniform_params = parameter_space.sample_uniformly(num_params)\\nres = np.zeros((num_params, num_params))\\nfor i, mu in enumerate(uniform_params):\\n    output = objective_function(fom, mu)\\n    res[(i-(i%num_params))//num_params, i%num_params] = output\\n\\nimport matplotlib.pyplot as plt\\nplt.close()\\nfig, axs = plt.subplots()\\nmp = axs.imshow(res, origin='lower')\\nfig.colorbar(mp, ax=axs)\\nplt.show()\\n\""
      ]
     },
     "execution_count": 13,
     "metadata": {},
     "output_type": "execute_result"
    }
   ],
   "source": [
    "\"\"\"\n",
    "num_params = 20\n",
    "uniform_params = parameter_space.sample_uniformly(num_params)\n",
    "res = np.zeros((num_params, num_params))\n",
    "for i, mu in enumerate(uniform_params):\n",
    "    output = objective_function(fom, mu)\n",
    "    res[(i-(i%num_params))//num_params, i%num_params] = output\n",
    "\n",
    "import matplotlib.pyplot as plt\n",
    "plt.close()\n",
    "fig, axs = plt.subplots()\n",
    "mp = axs.imshow(res, origin='lower')\n",
    "fig.colorbar(mp, ax=axs)\n",
    "plt.show()\n",
    "\"\"\""
   ]
  },
  {
   "cell_type": "code",
   "execution_count": 14,
   "id": "8bec8d36-921a-4994-87e0-4499dca778d4",
   "metadata": {},
   "outputs": [
    {
     "data": {
      "text/plain": [
       "'\\nres_alt = res.copy()\\nparams_array = np.array([p.to_numpy() for p in uniform_params]).reshape((num_params, num_params, 2))\\n#res_alt += 0.0075 * params_array[..., 0] - 0.0375 * params_array[..., 1]# - 9.)\\n#print(f\"Matrix of output values: {res_alt}\")\\nprint(f\"Minimum value: {np.min(res_alt)}\")\\namin = np.unravel_index(res_alt.argmin(), res_alt.shape)\\nprint(f\"Minimum index: {amin}\")\\nprint(f\"Minimum parameter: {uniform_params[amin[0]*num_params+amin[1]]}\")\\nplt.close()\\nfig_alt, axs_alt = plt.subplots(1, 2)\\nmp = axs_alt[0].imshow(res.T, origin=\\'lower\\')\\nfig_alt.colorbar(mp, ax=axs_alt[0])\\nmp_alt = axs_alt[1].imshow(res_alt.T, origin=\\'lower\\')\\nfig_alt.colorbar(mp_alt, ax=axs_alt[1])\\nplt.show()\\n'"
      ]
     },
     "execution_count": 14,
     "metadata": {},
     "output_type": "execute_result"
    }
   ],
   "source": [
    "\"\"\"\n",
    "res_alt = res.copy()\n",
    "params_array = np.array([p.to_numpy() for p in uniform_params]).reshape((num_params, num_params, 2))\n",
    "#res_alt += 0.0075 * params_array[..., 0] - 0.0375 * params_array[..., 1]# - 9.)\n",
    "#print(f\"Matrix of output values: {res_alt}\")\n",
    "print(f\"Minimum value: {np.min(res_alt)}\")\n",
    "amin = np.unravel_index(res_alt.argmin(), res_alt.shape)\n",
    "print(f\"Minimum index: {amin}\")\n",
    "print(f\"Minimum parameter: {uniform_params[amin[0]*num_params+amin[1]]}\")\n",
    "plt.close()\n",
    "fig_alt, axs_alt = plt.subplots(1, 2)\n",
    "mp = axs_alt[0].imshow(res.T, origin='lower')\n",
    "fig_alt.colorbar(mp, ax=axs_alt[0])\n",
    "mp_alt = axs_alt[1].imshow(res_alt.T, origin='lower')\n",
    "fig_alt.colorbar(mp_alt, ax=axs_alt[1])\n",
    "plt.show()\n",
    "\"\"\""
   ]
  },
  {
   "cell_type": "code",
   "execution_count": 15,
   "id": "65457f51-a4cf-45ca-abe8-ebf297ebf84b",
   "metadata": {},
   "outputs": [
    {
     "data": {
      "text/plain": [
       "\"\\nfig = plt.figure(frameon=False)\\nfig.set_size_inches(1, 1)\\nax = plt.Axes(fig, [0., 0., 1., 1.])\\nax.set_axis_off()\\nfig.add_axes(ax)\\nax.imshow(res.T, origin='lower', aspect='auto')\\nfig.savefig('fig_optimization_background_new.png', dpi=100)\\n\""
      ]
     },
     "execution_count": 15,
     "metadata": {},
     "output_type": "execute_result"
    }
   ],
   "source": [
    "\"\"\"\n",
    "fig = plt.figure(frameon=False)\n",
    "fig.set_size_inches(1, 1)\n",
    "ax = plt.Axes(fig, [0., 0., 1., 1.])\n",
    "ax.set_axis_off()\n",
    "fig.add_axes(ax)\n",
    "ax.imshow(res.T, origin='lower', aspect='auto')\n",
    "fig.savefig('fig_optimization_background_new.png', dpi=100)\n",
    "\"\"\""
   ]
  },
  {
   "cell_type": "markdown",
   "id": "a879e70b-2b41-4589-9e2f-cc8283ba2963",
   "metadata": {},
   "source": [
    "# Katalytische Filter\n",
    "\n",
    "Problem description!!!"
   ]
  },
  {
   "cell_type": "markdown",
   "id": "56a0b3b3-0cb3-447e-8630-dba04b443d95",
   "metadata": {},
   "source": [
    "# Adaptive Modellhierarchien\n",
    "\n",
    "<style>.myst, .myst p {font-size: 20pt;}</style>\n",
    "\n",
    "## Modelle\n",
    "\n",
    "### Full order model (FOM)\n",
    "\n",
    "### Reduced order model (RB-ROM)\n",
    "\n",
    "### Machine learning model (ML-ROM)\n",
    "\n",
    "Description + visualization\n",
    "\n",
    "| Modell | Genauigkeit | Rechenaufwand | Sonstiges |\n",
    "|--------|-------------|---------------|-----------|\n",
    "| FOM    | Hinreichend genau für alle Parameter (Referenzlösung) | Sehr aufwendig | - |\n",
    "| RB-ROM | Etwas ungenauer als das FOM | Deutlich schneller als das FOM | Effiziente Fehlerschätzung möglich |\n",
    "| ML-ROM | Ungenauer als das RB-ROM | Schneller als das RB-ROM | Fehlerschätzung vom RB-ROM kann wiederverwendet werden |"
   ]
  },
  {
   "cell_type": "code",
   "execution_count": 16,
   "id": "d8c9197b-dab9-497b-aa26-6836f6bc1691",
   "metadata": {},
   "outputs": [
    {
     "data": {
      "text/plain": [
       "'\\ninteract_model_hierarchy(two_stage_hierarchy, parameter_space, model_names,\\n                         output_function=lambda o: np.max(o), objective_function=partial(Linf_misfit, f_ref=f_mu_ref), initial_parameter=mu_init, optimal_parameter=mu_ref, optimization_bg_image=\"fig_optimization_adaptive_eps_bg.png\", optimization_bg_image_limits=(0.0278514264616242, 0.000111348743739251), show_solution=True, visualizer=fom.visualizer, random_sampling_function=random_sampling_function, density_function_monte_carlo=density_function_monte_carlo, solution_plot_extent=(0, 5, 0, 1), language=\\'de\\')\\n'"
      ]
     },
     "execution_count": 16,
     "metadata": {},
     "output_type": "execute_result"
    }
   ],
   "source": [
    "\"\"\"\n",
    "interact_model_hierarchy(two_stage_hierarchy, parameter_space, model_names,\n",
    "                         output_function=lambda o: np.max(o), objective_function=partial(Linf_misfit, f_ref=f_mu_ref), initial_parameter=mu_init, optimal_parameter=mu_ref, optimization_bg_image=\"fig_optimization_adaptive_eps_bg.png\", optimization_bg_image_limits=(0.0278514264616242, 0.000111348743739251), show_solution=True, visualizer=fom.visualizer, random_sampling_function=random_sampling_function, density_function_monte_carlo=density_function_monte_carlo, solution_plot_extent=(0, 5, 0, 1), language='de')\n",
    "\"\"\"\n",
    "#interact_model_hierarchy(two_stage_hierarchy, parameter_space, model_names,\n",
    "#                         output_function=lambda o: np.max(o), objective_function=objective_function, initial_parameter=mu_init, optimal_parameter=mu_opt, optimization_bg_image=\"fig_optimization_background_new.png\", optimization_bg_image_limits=(0.0278514264616242, 0.000111348743739251), show_solution=True, visualizer=fom.visualizer, random_sampling_function=random_sampling_function, density_function_monte_carlo=density_function_monte_carlo, solution_plot_extent=(0, 5, 0, 1), language='de')"
   ]
  },
  {
   "cell_type": "code",
   "execution_count": 17,
   "id": "dc82200a-f4df-46c7-a28e-052afa3443a8",
   "metadata": {},
   "outputs": [],
   "source": [
    "from pymor.reductors.ml import MachineLearningInstationaryReductor\n",
    "\n",
    "method = 'gpr'\n",
    "model_parameters = {}\n",
    "\n",
    "ml_reductor = MachineLearningInstationaryReductor(fom=fom, training_set=None, validation_set=None, method=method, model_parameters=model_parameters, product=fom.h1_0_semi_product)\n",
    "\n",
    "def reduction_ml(training_data, len_previous_training_data, models, reductors):\n",
    "    rb_rom = models[1]\n",
    "    rb_reductor = reductors[1]\n",
    "    ml_reductor = reductors[0]\n",
    "    error_estimator = rb_rom.error_estimator\n",
    "    ml_reductor.reduced_basis = rb_reductor.bases['RB']\n",
    "    red_dim = len(ml_reductor.reduced_basis)\n",
    "    training_data = [(mu, np.pad(dat.to_numpy()[0], (0, red_dim - len(dat.to_numpy()[0])),\n",
    "                                 mode='constant', constant_values=0.))\n",
    "                     for (mu, dat) in training_data if np.linalg.norm(dat.to_numpy().flatten()) > 1e-10]\n",
    "    ml_reductor.training_data = training_data\n",
    "    ml_rom = ml_reductor.reduce()\n",
    "    return ml_rom.with_(error_estimator=error_estimator, T=rb_rom.T, time_stepper=rb_rom.time_stepper)\n",
    "\n",
    "def post_reduction_ml(training_data, models, reductors):\n",
    "    return []\n",
    "\n",
    "def post_reduction_rb(training_data, models, reductors):\n",
    "    return [models[0]]\n",
    "    #return [reduction_ml(training_data[1], None, models, reductors)]\n",
    "\n",
    "models = [None, rb_reductor.reduce(), fom]\n",
    "model_names = ['ML-ROM', 'RB-ROM', 'FOM']\n",
    "reductors = [ml_reductor, rb_reductor]\n",
    "reduction_methods = [reduction_ml, reduction_rb]\n",
    "post_reduction_methods = [post_reduction_ml, post_reduction_rb]\n",
    "training_frequencies = [10, 1]\n",
    "\n",
    "three_stage_hierarchy = AdaptiveModelHierarchy(models, reductors, reduction_methods, post_reduction_methods,\n",
    "                                               training_frequencies, tolerance)"
   ]
  },
  {
   "cell_type": "code",
   "execution_count": 18,
   "id": "6fc7e44a-cc17-4ea1-9e0f-8908cf80b82f",
   "metadata": {},
   "outputs": [
    {
     "data": {
      "application/vnd.jupyter.widget-view+json": {
       "model_id": "52f7619b08ef4b1eb6c3dac85dcc8a07",
       "version_major": 2,
       "version_minor": 0
      },
      "text/plain": [
       "HBox(children=(VBox(children=(Accordion(children=(HBox(children=(Label(value='Choose tolerance:'), RadioButton…"
      ]
     },
     "execution_count": 18,
     "metadata": {},
     "output_type": "execute_result"
    }
   ],
   "source": [
    "interact_model_hierarchy(three_stage_hierarchy, parameter_space, model_names,\n",
    "                         output_function=lambda o: np.max(o), objective_function=partial(Linf_misfit, f_ref=f_mu_ref), initial_parameter=mu_init, optimal_parameter=mu_ref, optimization_bg_image=\"fig_optimization_adaptive_eps_bg.png\", optimization_bg_image_limits=(0.0278514264616242, 0.000111348743739251), show_solution=True, visualizer=fom.visualizer, random_sampling_function=random_sampling_function, density_function_monte_carlo=density_function_monte_carlo, solution_plot_extent=(0, 5, 0, 1), language='en',\n",
    "                         fig_width=17)"
   ]
  },
  {
   "cell_type": "code",
   "execution_count": null,
   "id": "84a63804-52aa-4044-bfbe-ff6fc88f9886",
   "metadata": {},
   "outputs": [],
   "source": [
    "\"\"\"\n",
    "from pymor.reductors.neural_network import NeuralNetworkInstationaryReductor\n",
    "ml_reductor = NeuralNetworkInstationaryReductor(fom=fom, training_set=None, validation_set=None,\n",
    "                                                ann_mse=None, pod_params={'product': fom.h1_0_semi_product},\n",
    "                                                scale_inputs=False, scale_outputs=False)\n",
    "\n",
    "def reduction_ml(training_data, len_previous_training_data, models, reductors):\n",
    "    rb_rom = models[1]\n",
    "    rb_reductor = reductors[1]\n",
    "    ml_reductor = reductors[0]\n",
    "    error_estimator = rb_rom.error_estimator\n",
    "    ml_reductor.reduced_basis = rb_reductor.bases['RB']\n",
    "    red_dim = len(ml_reductor.reduced_basis)\n",
    "    training_data = [(mu, np.pad(dat.to_numpy()[0], (0, red_dim - len(dat.to_numpy()[0])),\n",
    "                                 mode='constant', constant_values=0.))\n",
    "                     for (mu, dat) in training_data]\n",
    "    ml_reductor.training_data = training_data\n",
    "    ml_rom = ml_reductor.reduce(restarts=2, log_loss_frequency=10, recompute_training_data=False,\n",
    "                                recompute_validation_data=True)\n",
    "    return ml_rom.with_(error_estimator=error_estimator, T=rb_rom.T, time_stepper=rb_rom.time_stepper)\n",
    "\n",
    "def post_reduction_ml(training_data, models, reductors):\n",
    "    return []\n",
    "\n",
    "def post_reduction_rb(training_data, models, reductors):\n",
    "    return [models[0]]\n",
    "    #return [reduction_ml(training_data[1], None, models, reductors)]\n",
    "\n",
    "models = [None, rb_reductor.reduce(), fom]\n",
    "model_names = ['ML-ROM', 'RB-ROM', 'FOM']\n",
    "reductors = [ml_reductor, rb_reductor]\n",
    "reduction_methods = [reduction_ml, reduction_rb]\n",
    "post_reduction_methods = [post_reduction_ml, post_reduction_rb]\n",
    "training_frequencies = [20, 1]\n",
    "\n",
    "three_stage_hierarchy = AdaptiveModelHierarchy(models, reductors, reduction_methods, post_reduction_methods,\n",
    "                                               training_frequencies, tolerance)\n",
    "\"\"\""
   ]
  },
  {
   "cell_type": "code",
   "execution_count": null,
   "id": "5589c177-0026-41c2-b60b-207c40b0ab3e",
   "metadata": {},
   "outputs": [],
   "source": [
    "\"\"\"\n",
    "interact_model_hierarchy(three_stage_hierarchy, parameter_space, model_names,\n",
    "                         output_function=lambda o: np.max(o), objective_function=partial(Linf_misfit, f_ref=f_mu_ref), initial_parameter=mu_init, optimal_parameter=mu_ref, optimization_bg_image=\"fig_optimization_adaptive_eps_bg.png\", optimization_bg_image_limits=(0.0278514264616242, 0.000111348743739251), show_solution=True, visualizer=fom.visualizer, random_sampling_function=random_sampling_function, density_function_monte_carlo=density_function_monte_carlo, solution_plot_extent=(0, 5, 0, 1), language='de')\n",
    "\"\"\""
   ]
  }
 ],
 "metadata": {
  "kernelspec": {
   "display_name": "Python 3 (ipykernel)",
   "language": "python",
   "name": "python3"
  },
  "language_info": {
   "codemirror_mode": {
    "name": "ipython",
    "version": 3
   },
   "file_extension": ".py",
   "mimetype": "text/x-python",
   "name": "python",
   "nbconvert_exporter": "python",
   "pygments_lexer": "ipython3",
   "version": "3.10.12"
  }
 },
 "nbformat": 4,
 "nbformat_minor": 5
}
