{
  "cells": [
    {
      "cell_type": "code",
      "execution_count": 1,
      "id": "0afb673c-7199-42ce-82ab-1e2fbf34ff00",
      "metadata": {},
      "outputs": [],
      "source": [
        "import warnings\n",
        "\n",
        "import matplotlib as mpl\n",
        "import numpy as np\n",
        "from IPython import get_ipython\n",
        "\n",
        "import pymor.tools.random\n",
        "\n",
        "ip = get_ipython()\n",
        "if ip is not None:\n",
        "#    ip.run_line_magic('matplotlib', 'inline')\n",
        "    ip.run_line_magic('matplotlib', 'ipympl')\n",
        "\n",
        "warnings.filterwarnings('ignore', category=UserWarning, module='torch')\n",
        "\n",
        "pymor.tools.random._default_random_state = None\n",
        "\n",
        "mpl.rcParams['figure.facecolor'] = (1.0, 1.0, 1.0, 0.0)"
      ]
    },
    {
      "cell_type": "code",
      "execution_count": 2,
      "id": "15d2c212-ea16-4329-9bb1-57a79ece32a4",
      "metadata": {},
      "outputs": [
        {
          "data": {
            "application/vnd.jupyter.widget-view+json": {
              "model_id": "908a35d5cc0642038a40855d2528995e",
              "version_major": 2,
              "version_minor": 0
            },
            "text/plain": [
              "Accordion(children=(HTML(value='', layout=Layout(height='16em', width='100%')),), titles=('Log Output',))"
            ]
          },
          "metadata": {},
          "output_type": "display_data"
        }
      ],
      "source": [
        "from pymor.basic import *\n",
        "\n",
        "p = thermal_block_problem([2,2])\n",
        "p = p.with_(outputs=[('l2', ConstantFunction(1., 2))])#, ('l2', ExpressionFunction('x[0] >= 0.5', 2))])\n",
        "fom, _ = discretize_stationary_cg(p)\n",
        "\n",
        "parameter_space = fom.parameters.space((0.1, 1))"
      ]
    },
    {
      "cell_type": "code",
      "execution_count": 3,
      "id": "887a652e-c7f6-401a-8845-4cd83b36f17c",
      "metadata": {},
      "outputs": [],
      "source": [
        "#interact(fom, parameter_space)"
      ]
    },
    {
      "cell_type": "code",
      "execution_count": 4,
      "id": "cc5919a0-62ce-4337-a86a-890236f35118",
      "metadata": {},
      "outputs": [],
      "source": [
        "from pymor.models.hierarchy import AdaptiveModelHierarchy\n",
        "from pymor.reductors.neural_network import NeuralNetworkReductor"
      ]
    },
    {
      "cell_type": "code",
      "execution_count": 5,
      "id": "c62c3fbe-c684-43c2-a8f6-1c21ed984b27",
      "metadata": {},
      "outputs": [
        {
          "data": {
            "application/vnd.jupyter.widget-view+json": {
              "model_id": "6a3e6a6fb598482fa3b7b9e35a1a6b32",
              "version_major": 2,
              "version_minor": 0
            },
            "text/plain": [
              "Accordion(children=(HTML(value='', layout=Layout(height='16em', width='100%')),), titles=('Log Output',))"
            ]
          },
          "metadata": {},
          "output_type": "display_data"
        }
      ],
      "source": [
        "rb_reductor = CoerciveRBReductor(\n",
        "    fom,\n",
        "    product=fom.h1_0_semi_product,\n",
        "    coercivity_estimator=ExpressionParameterFunctional('min(diffusion)', fom.parameters)\n",
        ")\n",
        "\n",
        "def reduction_rb(training_data, len_previous_training_data, models, reductors):\n",
        "    U = fom.solution_space.empty(reserve=len(training_data))\n",
        "    for _, u in training_data[len_previous_training_data:]:\n",
        "        U.append(u)\n",
        "    RB, _ = pod(U, product=fom.h1_0_semi_product)\n",
        "    reductors[0].extend_basis(RB)\n",
        "    return reductors[0].reduce()\n",
        "\n",
        "def post_reduction_rb(training_data, models, reductors):\n",
        "    return []\n",
        "\n",
        "tolerance = 5e-3\n",
        "\n",
        "# Settings for the two-stage hierarchy\n",
        "models = [rb_reductor.reduce(), fom]\n",
        "model_names = ['RB-ROM', 'FOM']\n",
        "reductors = [rb_reductor]\n",
        "reduction_methods = [reduction_rb]\n",
        "post_reduction_methods = [post_reduction_rb]\n",
        "training_frequencies = [1]\n",
        "\n",
        "two_stage_hierarchy = AdaptiveModelHierarchy(models, reductors, reduction_methods, post_reduction_methods,\n",
        "                                             training_frequencies, tolerance, visualizer=fom.visualizer,\n",
        "                                             name='Two-stage model hierarchy')"
      ]
    },
    {
      "cell_type": "code",
      "execution_count": 6,
      "id": "73a16970-50e7-4019-931d-12add348102b",
      "metadata": {},
      "outputs": [],
      "source": [
        "from pymor.models.interact import interact_model_hierarchy"
      ]
    },
    {
      "cell_type": "code",
      "execution_count": 7,
      "id": "d8c9197b-dab9-497b-aa26-6836f6bc1691",
      "metadata": {},
      "outputs": [],
      "source": [
        "#interact_model_hierarchy(two_stage_hierarchy, parameter_space, model_names)"
      ]
    },
    {
      "cell_type": "code",
      "execution_count": 8,
      "id": "dc82200a-f4df-46c7-a28e-052afa3443a8",
      "metadata": {},
      "outputs": [],
      "source": [
        "ml_reductor = NeuralNetworkReductor(fom=fom, training_set=None, validation_set=None,\n",
        "                                    ann_mse=None, pod_params={'product': fom.h1_0_semi_product},\n",
        "                                    scale_inputs=False, scale_outputs=False)\n",
        "\n",
        "def reduction_ml(training_data, len_previous_training_data, models, reductors):\n",
        "    rb_rom = models[1]\n",
        "    rb_reductor = reductors[1]\n",
        "    ml_reductor = reductors[0]\n",
        "    error_estimator = rb_rom.error_estimator\n",
        "    ml_reductor.reduced_basis = rb_reductor.bases['RB']\n",
        "    red_dim = len(ml_reductor.reduced_basis)\n",
        "    training_data = [(mu, np.pad(dat.to_numpy()[0], (0, red_dim - len(dat.to_numpy()[0])),\n",
        "                                 mode='constant', constant_values=0.))\n",
        "                     for (mu, dat) in training_data]\n",
        "    ml_reductor.training_data = training_data\n",
        "    ml_rom = ml_reductor.reduce(restarts=2, log_loss_frequency=10, recompute_training_data=False,\n",
        "                                recompute_validation_data=True)\n",
        "    return ml_rom.with_(error_estimator=error_estimator)\n",
        "\n",
        "def post_reduction_ml(training_data, models, reductors):\n",
        "    return []\n",
        "\n",
        "def post_reduction_rb(training_data, models, reductors):\n",
        "    return [models[0]]\n",
        "    #return [reduction_ml(training_data[1], None, models, reductors)]\n",
        "\n",
        "models = [None, rb_reductor.reduce(), fom]\n",
        "model_names = ['ML-ROM', 'RB-ROM', 'FOM']\n",
        "reductors = [ml_reductor, rb_reductor]\n",
        "reduction_methods = [reduction_ml, reduction_rb]\n",
        "post_reduction_methods = [post_reduction_ml, post_reduction_rb]\n",
        "training_frequencies = [20, 1]\n",
        "\n",
        "three_stage_hierarchy = AdaptiveModelHierarchy(models, reductors, reduction_methods, post_reduction_methods,\n",
        "                                               training_frequencies, tolerance)"
      ]
    },
    {
      "cell_type": "code",
      "execution_count": 9,
      "id": "5589c177-0026-41c2-b60b-207c40b0ab3e",
      "metadata": {},
      "outputs": [
        {
          "data": {
            "application/vnd.jupyter.widget-view+json": {
              "model_id": "9b5f5fb36e6149bc93429aa926f0ca38",
              "version_major": 2,
              "version_minor": 0
            },
            "text/plain": [
              "Accordion(children=(HTML(value='', layout=Layout(height='16em', width='100%')),), titles=('Log Output',))"
            ]
          },
          "metadata": {},
          "output_type": "display_data"
        },
        {
          "data": {
            "application/vnd.jupyter.widget-view+json": {
              "model_id": "bc3b8891662241acb630024c86ca4b57",
              "version_major": 2,
              "version_minor": 0
            },
            "text/plain": [
              "HBox(children=(VBox(children=(Accordion(children=(HBox(children=(FloatLogSlider(value=0.001, description='Tole\u2026"
            ]
          },
          "execution_count": 9,
          "metadata": {},
          "output_type": "execute_result"
        }
      ],
      "source": [
        "interact_model_hierarchy(three_stage_hierarchy, parameter_space, model_names,\n",
        "                         visualizer=fom.visualize)"
      ]
    }
  ],
  "metadata": {
    "kernelspec": {
      "display_name": "Python 3 (ipykernel)",
      "language": "python",
      "name": "python3"
    },
    "language_info": {
      "codemirror_mode": {
        "name": "ipython",
        "version": 3
      },
      "file_extension": ".py",
      "mimetype": "text/x-python",
      "name": "python",
      "nbconvert_exporter": "python",
      "pygments_lexer": "ipython3",
      "version": "3.10.12"
    }
  },
  "nbformat": 4,
  "nbformat_minor": 5
}
