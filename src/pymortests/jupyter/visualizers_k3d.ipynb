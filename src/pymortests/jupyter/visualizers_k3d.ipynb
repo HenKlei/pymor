{
  "cells": [
    {
      "cell_type": "code",
      "execution_count": null,
      "id": "67b6d289-695c-41c8-8adc-9a959f657ca3",
      "metadata": {},
      "outputs": [],
      "source": [
        "import numpy as np\n",
        "\n",
        "from pymor.analyticalproblems.domaindescriptions import CylindricalDomain\n",
        "from pymor.analyticalproblems.functions import ConstantFunction\n",
        "from pymor.analyticalproblems.instationary import InstationaryProblem\n",
        "from pymor.analyticalproblems.thermalblock import thermal_block_problem\n",
        "from pymor.core.defaults import set_defaults\n",
        "from pymor.discretizers.builtin import (\n",
        "    discretize_instationary_cg,\n",
        "    discretize_instationary_fv,\n",
        "    discretize_stationary_cg,\n",
        "    discretize_stationary_fv,\n",
        ")"
      ]
    },
    {
      "cell_type": "code",
      "execution_count": null,
      "id": "9bf4d870-68f0-463c-98b7-83a175bac113",
      "metadata": {},
      "outputs": [],
      "source": [
        "p = thermal_block_problem()\n",
        "p_periodic = p.with_(domain=CylindricalDomain())\n",
        "p_unsteady = InstationaryProblem(p, ConstantFunction(0., dim_domain=2))\n",
        "mu = p.parameters.parse(np.arange(1, 10))"
      ]
    },
    {
      "cell_type": "code",
      "execution_count": null,
      "id": "53f98c59-1599-4fc5-8084-1037daff452d",
      "metadata": {},
      "outputs": [],
      "source": [
        "set_defaults({'pymor.discretizers.builtin.gui.jupyter.get_visualizer.backend': 'k3d'})"
      ]
    },
    {
      "cell_type": "code",
      "execution_count": null,
      "id": "25eda33f-eca0-4e73-8593-39977011845a",
      "metadata": {},
      "outputs": [],
      "source": [
        "m, _ = discretize_stationary_cg(p, diameter=1/10)\n",
        "m.visualize(m.solve(mu))"
      ]
    },
    {
      "cell_type": "code",
      "execution_count": null,
      "id": "be13e1d7-e138-428b-a348-0faa5ec2bfed",
      "metadata": {},
      "outputs": [],
      "source": [
        "m, _ = discretize_stationary_cg(p_periodic, diameter=1/10)\n",
        "m.visualize(m.solve(mu))"
      ]
    },
    {
      "cell_type": "code",
      "execution_count": null,
      "id": "d0f62ab3-7b46-4c6c-9968-01671f98c7c5",
      "metadata": {},
      "outputs": [],
      "source": [
        "m, _ = discretize_stationary_fv(p, diameter=1/10)\n",
        "m.visualize(m.solve(mu))"
      ]
    },
    {
      "cell_type": "code",
      "execution_count": null,
      "id": "bda0ad5e-26ee-4952-bbaa-e8024718c7aa",
      "metadata": {},
      "outputs": [],
      "source": [
        "m, _ = discretize_stationary_fv(p_periodic, diameter=1/10)\n",
        "m.visualize(m.solve(mu))"
      ]
    },
    {
      "cell_type": "code",
      "execution_count": null,
      "id": "33bc33a7-68d2-4477-bbc3-eab763646a4a",
      "metadata": {},
      "outputs": [],
      "source": [
        "m, _ = discretize_instationary_cg(p_unsteady, diameter=1/10, nt=10)\n",
        "m.visualize(m.solve(mu))"
      ]
    },
    {
      "cell_type": "code",
      "execution_count": null,
      "id": "c4d01a46-3c62-4d11-a547-911e312e66e6",
      "metadata": {},
      "outputs": [],
      "source": [
        "m, _ = discretize_instationary_fv(p_unsteady, diameter=1/10, nt=10)\n",
        "m.visualize(m.solve(mu))"
      ]
    }
  ],
  "metadata": {
    "kernelspec": {
      "display_name": "Python 3 (ipykernel)",
      "language": "python",
      "name": "python3"
    },
    "language_info": {
      "codemirror_mode": {
        "name": "ipython",
        "version": 3
      },
      "file_extension": ".py",
      "mimetype": "text/x-python",
      "name": "python",
      "nbconvert_exporter": "python",
      "pygments_lexer": "ipython3",
      "version": "3.12.2"
    }
  },
  "nbformat": 4,
  "nbformat_minor": 5
}
